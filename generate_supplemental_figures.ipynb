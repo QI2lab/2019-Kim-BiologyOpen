{
 "cells": [
  {
   "cell_type": "code",
   "execution_count": null,
   "metadata": {},
   "outputs": [],
   "source": [
    "# import libraries for analysis and plotting\n",
    "import pandas as pd\n",
    "import seaborn as sns\n",
    "import numpy as np\n",
    "import scipy as sp\n",
    "import random\n",
    "import matplotlib.pyplot as plt\n",
    "from sklearn.preprocessing import StandardScaler\n",
    "from sklearn.decomposition import PCA\n",
    "from statsmodels import robust\n",
    "import warnings\n",
    "warnings.filterwarnings('ignore')\n",
    "\n",
    "# This library must be downloaded and installed into the active environment \n",
    "# from: https://github.com/webermarcolivier/statannot\n",
    "# from statannot import add_stat_annotation "
   ]
  },
  {
   "cell_type": "code",
   "execution_count": null,
   "metadata": {},
   "outputs": [],
   "source": [
    "#Import dose response data\n",
    "df_dose=pd.read_csv(\"ensemble/dose.csv\")"
   ]
  },
  {
   "cell_type": "code",
   "execution_count": null,
   "metadata": {},
   "outputs": [],
   "source": [
    "#Plot and save dose response data\n",
    "ax_dose = sns.catplot(\"Cell\", \"Cells\", \"Media (ng/ml)\", kind='strip', data=df_dose, dodge=True, s=15, aspect=2)\n",
    "axes_dose=ax_dose.axes\n",
    "\n",
    "axes_dose[0,0].set_yticks([80000, 120000, 160000])\n",
    "\n",
    "sns.despine(offset=5, trim=False)\n",
    "fig = ax_dose.fig\n",
    "fig.savefig('dose.png', dpi=600) "
   ]
  },
  {
   "cell_type": "code",
   "execution_count": null,
   "metadata": {},
   "outputs": [],
   "source": [
    "#Import Axitinib data\n",
    "df_Ax=pd.read_csv(\"ensemble/axitinib.csv\")\n",
    "\n",
    "#Create individual data structures for statistical tests\n",
    "df_Ax_Vehicle=df_Ax[df_Ax['Media'] == 'Vehicle']\n",
    "df_Ax_IGF1=df_Ax[df_Ax['Media'] == 'IGF1']\n",
    "df_Ax_VEGF=df_Ax[df_Ax['Media'] == 'VEGF']"
   ]
  },
  {
   "cell_type": "code",
   "execution_count": null,
   "metadata": {},
   "outputs": [],
   "source": [
    "#Plot and save axitinib data\n",
    "ax_axitinib = sns.catplot(\"Cell\", \"Cells\", \"Inhibitor\", col=\"Media\", data=df_Ax, kind=\"strip\", dodge=True, s=15, sharey=False, aspect=0.9)\n",
    "sns.set_context(\"paper\", font_scale=3)\n",
    "axes_axitinib=ax_axitinib.axes\n",
    "\n",
    "add_stat_annotation(axes_axitinib[0,0], data=df_Ax_Vehicle, x=\"Cell\", y=\"Cells\", hue=\"Inhibitor\",\n",
    "                    boxPairList=[((\"Normal\", \"None\"), (\"Normal\", \"Axitinib\")),\n",
    "                                ((\"PPHN\", \"None\"), (\"PPHN\", \"Axitinib\"))],\n",
    "                    test='Kruskal', textFormat='star', loc='inside', verbose=2)\n",
    "\n",
    "add_stat_annotation(axes_axitinib[0,1], data=df_Ax_IGF1, x=\"Cell\", y=\"Cells\", hue=\"Inhibitor\",\n",
    "                    boxPairList=[((\"Normal\", \"None\"), (\"Normal\", \"Axitinib\")),\n",
    "                                ((\"PPHN\", \"None\"), (\"PPHN\", \"Axitinib\"))],\n",
    "                    test='Kruskal', textFormat='star', loc='inside', verbose=2)\n",
    "\n",
    "add_stat_annotation(axes_axitinib[0,2], data=df_Ax_VEGF, x=\"Cell\", y=\"Cells\", hue=\"Inhibitor\",\n",
    "                    boxPairList=[((\"Normal\", \"None\"), (\"Normal\", \"Axitinib\")),\n",
    "                                ((\"PPHN\", \"None\"), (\"PPHN\", \"Axitinib\"))],\n",
    "                    test='Kruskal', textFormat='star', loc='inside', verbose=2)\n",
    "\n",
    "axes_axitinib[0,0].set_yticks([100000, 200000])\n",
    "axes_axitinib[0,1].set_yticks([100000, 200000, 300000])\n",
    "axes_axitinib[0,2].set_yticks([100000, 200000, 300000])\n",
    "\n",
    "sns.despine(offset=5, trim=False)\n",
    "fig = ax_axitinib.fig\n",
    "fig.savefig('axitinib.png', dpi=600) "
   ]
  },
  {
   "cell_type": "code",
   "execution_count": null,
   "metadata": {},
   "outputs": [],
   "source": [
    "#Import PPP treatment\n",
    "df_PPP=pd.read_csv(\"ensemble/PPP.csv\")\n",
    "\n",
    "#Create individual data structures for statistical tests\n",
    "df_PPP_Vehicle=df_PPP[df_PPP['Media'] == 'Vehicle']\n",
    "df_PPP_IGF1=df_PPP[df_PPP['Media'] == 'IGF1']\n",
    "df_PPP_VEGF=df_PPP[df_PPP['Media'] == 'VEGF']"
   ]
  },
  {
   "cell_type": "code",
   "execution_count": null,
   "metadata": {},
   "outputs": [],
   "source": [
    "#Plot and save PPP data\n",
    "ax_PPP = sns.catplot(\"Cell\", \"Cells\", \"Inhibitor\", col=\"Media\", data=df_PPP, kind=\"strip\", dodge=True, s=15, sharey=False)\n",
    "sns.set_context(\"paper\", font_scale=3)\n",
    "axes_PPP=ax_PPP.axes\n",
    "\n",
    "\n",
    "add_stat_annotation(axes_PPP[0,0], data=df_PPP_Vehicle, x=\"Cell\", y=\"Cells\", hue=\"Inhibitor\",\n",
    "                    boxPairList=[((\"Normal\", \"None\"), (\"Normal\", \"PPP\"))],\n",
    "                    test='Kruskal', textFormat='star', loc='inside', verbose=2)\n",
    "\n",
    "add_stat_annotation(axes_PPP[0,1], data=df_PPP_IGF1, x=\"Cell\", y=\"Cells\", hue=\"Inhibitor\",\n",
    "                    boxPairList=[((\"Normal\", \"None\"), (\"Normal\", \"PPP\"))],\n",
    "                    test='Kruskal', textFormat='star', loc='inside', verbose=2)\n",
    "\n",
    "add_stat_annotation(axes_PPP[0,2], data=df_PPP_VEGF, x=\"Cell\", y=\"Cells\", hue=\"Inhibitor\",\n",
    "                    boxPairList=[((\"Normal\", \"None\"), (\"Normal\", \"PPP\"))],\n",
    "                    test='Kruskal', textFormat='star', loc='inside', verbose=2)\n",
    "\n",
    "axes_PPP[0,0].set_yticks([100000, 150000])\n",
    "axes_PPP[0,1].set_yticks([100000, 150000, 200000, 250000])\n",
    "axes_PPP[0,2].set_yticks([100000, 150000, 200000, 250000])\n",
    "\n",
    "sns.despine(offset=5, trim=False)\n",
    "fig = ax_PPP.fig\n",
    "fig.savefig('PPP.png', dpi=600) "
   ]
  },
  {
   "cell_type": "code",
   "execution_count": null,
   "metadata": {},
   "outputs": [],
   "source": [
    "#import Rapamyocin treatment\n",
    "df_RP=pd.read_csv(\"ensemble/RP.csv\")\n",
    "\n",
    "#Create individual data structures for statistical tests\n",
    "df_RP_Vehicle=df_RP[df_RP['Media'] == 'Vehicle']\n",
    "df_RP_IGF1=df_RP[df_RP['Media'] == 'IGF1']\n",
    "df_RP_VEGF=df_RP[df_RP['Media'] == 'VEGF']"
   ]
  },
  {
   "cell_type": "code",
   "execution_count": null,
   "metadata": {},
   "outputs": [],
   "source": [
    "#Plot and save RP data\n",
    "ax_RP = sns.catplot(\"Cell\", \"Cells\", \"Inhibitor\", col=\"Media\", data=df_RP, kind=\"strip\", dodge=True, s=15, sharey=True)\n",
    "sns.set_context(\"paper\", font_scale=3)\n",
    "axes_RP=ax_RP.axes\n",
    "\n",
    "add_stat_annotation(axes_RP[0,0], data=df_RP_Vehicle, x=\"Cell\", y=\"Cells\", hue=\"Inhibitor\",\n",
    "                    boxPairList=[((\"Normal\", \"None\"), (\"Normal\", \"Rapamycin (low)\")),\n",
    "                                ((\"Normal\", \"None\"), (\"Normal\", \"Rapamycin (high)\"))],\n",
    "                    test='Kruskal', textFormat='star', loc='inside', verbose=2)\n",
    "\n",
    "add_stat_annotation(axes_RP[0,1], data=df_RP_IGF1, x=\"Cell\", y=\"Cells\", hue=\"Inhibitor\",\n",
    "                    boxPairList=[((\"Normal\", \"None\"), (\"Normal\", \"Rapamycin (low)\")),\n",
    "                                ((\"Normal\", \"None\"), (\"Normal\", \"Rapamycin (high)\"))],\n",
    "                    test='Kruskal', textFormat='star', loc='inside', verbose=2)\n",
    "\n",
    "add_stat_annotation(axes_RP[0,2], data=df_RP_VEGF, x=\"Cell\", y=\"Cells\", hue=\"Inhibitor\",\n",
    "                    boxPairList=[((\"Normal\", \"None\"), (\"Normal\", \"Rapamycin (low)\")),\n",
    "                                ((\"Normal\", \"None\"), (\"Normal\", \"Rapamycin (high)\"))],\n",
    "                    test='Kruskal', textFormat='star', loc='inside', verbose=2)\n",
    "\n",
    "sns.despine(offset=5, trim=False)\n",
    "fig = ax_RP.fig\n",
    "fig.savefig('RP.png', dpi=600) "
   ]
  }
 ],
 "metadata": {
  "kernelspec": {
   "display_name": "Python 3",
   "language": "python",
   "name": "python3"
  },
  "language_info": {
   "codemirror_mode": {
    "name": "ipython",
    "version": 3
   },
   "file_extension": ".py",
   "mimetype": "text/x-python",
   "name": "python",
   "nbconvert_exporter": "python",
   "pygments_lexer": "ipython3",
   "version": "3.7.2"
  }
 },
 "nbformat": 4,
 "nbformat_minor": 2
}
